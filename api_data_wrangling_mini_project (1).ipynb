{
 "cells": [
  {
   "cell_type": "markdown",
   "metadata": {},
   "source": [
    "This exercise will require you to pull some data from the Qunadl API. Qaundl is currently the most widely used aggregator of financial market data."
   ]
  },
  {
   "cell_type": "markdown",
   "metadata": {},
   "source": [
    "As a first step, you will need to register a free account on the http://www.quandl.com website."
   ]
  },
  {
   "cell_type": "code",
   "execution_count": 9,
   "metadata": {},
   "outputs": [],
   "source": [
    "# Store the API key as a string - according to PEP8, constants are always named in all upper case\n",
    "API_KEY = 'i5xgbLjzu7J_rM6swr5d'"
   ]
  },
  {
   "cell_type": "markdown",
   "metadata": {},
   "source": [
    "After you register, you will be provided with a unique API key, that you should store:"
   ]
  },
  {
   "cell_type": "markdown",
   "metadata": {},
   "source": [
    "Qaundl has a large number of data sources, but, unfortunately, most of them require a Premium subscription. Still, there are also a good number of free datasets."
   ]
  },
  {
   "cell_type": "markdown",
   "metadata": {},
   "source": [
    "For this mini project, we will focus on equities data from the Frankfurt Stock Exhange (FSE), which is available for free. We'll try and analyze the stock prices of a company called Carl Zeiss Meditec, which manufactures tools for eye examinations, as well as medical lasers for laser eye surgery: https://www.zeiss.com/meditec/int/home.html. The company is listed under the stock ticker AFX_X."
   ]
  },
  {
   "cell_type": "markdown",
   "metadata": {},
   "source": [
    "You can find the detailed Quandl API instructions here: https://docs.quandl.com/docs/time-series"
   ]
  },
  {
   "cell_type": "markdown",
   "metadata": {},
   "source": [
    "While there is a dedicated Python package for connecting to the Quandl API, we would prefer that you use the *requests* package, which can be easily downloaded using *pip* or *conda*. You can find the documentation for the package here: http://docs.python-requests.org/en/master/ "
   ]
  },
  {
   "cell_type": "markdown",
   "metadata": {},
   "source": [
    "Finally, apart from the *requests* package, you are encouraged to not use any third party Python packages, such as *pandas*, and instead focus on what's available in the Python Standard Library (the *collections* module might come in handy: https://pymotw.com/3/collections/ ).\n",
    "Also, since you won't have access to DataFrames, you are encouraged to us Python's native data structures - preferably dictionaries, though some questions can also be answered using lists.\n",
    "You can read more on these data structures here: https://docs.python.org/3/tutorial/datastructures.html"
   ]
  },
  {
   "cell_type": "markdown",
   "metadata": {},
   "source": [
    "Keep in mind that the JSON responses you will be getting from the API map almost one-to-one to Python's dictionaries. Unfortunately, they can be very nested, so make sure you read up on indexing dictionaries in the documentation provided above."
   ]
  },
  {
   "cell_type": "code",
   "execution_count": 65,
   "metadata": {},
   "outputs": [],
   "source": [
    "# First, import the relevant modules\n",
    "import requests\n",
    "import pandas as pd\n",
    "import json\n",
    "import numpy as np\n",
    "import operator\n"
   ]
  },
  {
   "cell_type": "code",
   "execution_count": 18,
   "metadata": {},
   "outputs": [],
   "source": [
    "# Now, call the Quandl API and pull out a small sample of the data (only one day) to get a glimpse\n",
    "# into the JSON structure that will be returned\n",
    "r = requests.get('https://www.quandl.com/api/v3/datasets/FSE/AFX_X/data.json?&start_date=2019-07-23&end_date=2019-07-23&api_key='+API_KEY)\n",
    "r_json = r.json()"
   ]
  },
  {
   "cell_type": "code",
   "execution_count": 19,
   "metadata": {},
   "outputs": [
    {
     "name": "stdout",
     "output_type": "stream",
     "text": [
      "{'dataset_data': {'limit': None, 'transform': None, 'column_index': None, 'column_names': ['Date', 'Open', 'High', 'Low', 'Close', 'Change', 'Traded Volume', 'Turnover', 'Last Price of the Day', 'Daily Traded Units', 'Daily Turnover'], 'start_date': '2019-07-23', 'end_date': '2019-07-23', 'frequency': 'daily', 'data': [['2019-07-23', 97.2, 98.2, 97.05, 98.1, None, 91724.0, 8971253.0, None, None, None]], 'collapse': None, 'order': None}}\n"
     ]
    }
   ],
   "source": [
    "# Inspect the JSON structure of the object you created, and take note of how nested it is,\n",
    "# as well as the overall structure\n",
    "print(r_json)"
   ]
  },
  {
   "cell_type": "markdown",
   "metadata": {},
   "source": [
    "These are your tasks for this mini project:\n",
    "\n",
    "1. Collect data from the Franfurt Stock Exchange, for the ticker AFX_X, for the whole year 2017 (keep in mind that the date format is YYYY-MM-DD).\n",
    "2. Convert the returned JSON object into a Python dictionary.\n",
    "3. Calculate what the highest and lowest opening prices were for the stock in this period.\n",
    "4. What was the largest change in any one day (based on High and Low price)?\n",
    "5. What was the largest change between any two days (based on Closing Price)?\n",
    "6. What was the average daily trading volume during this year?\n",
    "7. (Optional) What was the median trading volume during this year. (Note: you may need to implement your own function for calculating the median.)"
   ]
  },
  {
   "cell_type": "code",
   "execution_count": 162,
   "metadata": {},
   "outputs": [
    {
     "name": "stdout",
     "output_type": "stream",
     "text": [
      "Question 3\n",
      "the maximum open price with its date is: ('2017-12-14', 53.11)\n",
      "the minimum open price with its date is: ('2017-01-24', 34.0)\n",
      "------------------------------------------------------------\n",
      "Question 4\n",
      "the maximum daily difference is $ 2.81\n",
      "------------------------------------------------------------\n",
      "Question 5\n",
      "the maximum 2-day closing difference is $ 2.56\n",
      "------------------------------------------------------------\n",
      "Question 6\n",
      "the average daiy trading volume is:  89124\n",
      "------------------------------------------------------------\n",
      "Question 7\n",
      "the medium trading volume during this year is: 76286\n"
     ]
    }
   ],
   "source": [
    "\n",
    "print(\"Question 3\")\n",
    "task = requests.get('https://www.quandl.com/api/v3/datasets/FSE/AFX_X/data.json?&start_date=2017-01-01&end_date=2017-12-31&api_key='+API_KEY)\n",
    "task_json = task.json()\n",
    "open_index=task_json['dataset_data']['column_names'].index('Open')\n",
    "date_index = task_json['dataset_data']['column_names'].index('Date')\n",
    "stock_data=task_json['dataset_data']['data']\n",
    "open_data = {stock_data[i][date_index]:stock_data[i][open_index] for i in range(len(stock_data)) if stock_data[i][open_index]!=None }\n",
    "open_max = max(open_data.items(),key=operator.itemgetter(1))\n",
    "print(\"the maximum open price with its date is:\",open_max)\n",
    "open_min = min(open_data.items(),key=operator.itemgetter(1))\n",
    "print(\"the minimum open price with its date is:\",open_min)\n",
    "print('------------------------------------------------------------')\n",
    "\n",
    "print(\"Question 4\")\n",
    "daily_high = [row[2] for row in stock_data if row[2] != None]\n",
    "daily_low = [row[3] for row in stock_data if row[3] != None]\n",
    "difference = [(high-low) for (high,low) in zip(daily_high,daily_low)]\n",
    "print(\"the maximum daily difference is $\",round(max(difference),2))\n",
    "print('------------------------------------------------------------')\n",
    "\n",
    "print(\"Question 5\")\n",
    "closing = [row[4] for row in stock_data if row[4] != None]\n",
    "prev_day_closing = [row[4] for row in stock_data if row[4] != None][1:]\n",
    "closing_diff = [abs(c1-c0) for (c1,c0) in zip(closing,prev_day_closing)]\n",
    "print(\"the maximum 2-day closing difference is $\",round(max(closing_diff),2))\n",
    "print('------------------------------------------------------------')\n",
    "\n",
    "print(\"Question 6\")\n",
    "trading_vol = [row[6] for row in stock_data if row[6] != None]\n",
    "avg_trad_vol = sum(trading_vol)/len(trading_vol)\n",
    "print(\"the average daiy trading volume is: \",int(avg_trad_vol))\n",
    "print('------------------------------------------------------------')\n",
    "\n",
    "\n",
    "print(\"Question 7\")\n",
    "trading_vol_sorted = sorted(trading_vol)\n",
    "if len(trading_vol_sorted)%2 ==0:\n",
    "   median = (trading_vol_sorted[int(len(trading_vol_sorted)/2)]+trading_vol_sorted[int(len(trading_vol_sorted)/2-1)])/2\n",
    "else:\n",
    "    median= trading_vol_sorted[int(len(trading_vol_sorted)/2-0.5)]\n",
    "print(\"the medium trading volume during this year is:\",int(median))\n",
    "print('---------------- THE END OF MINI PROJECT ------------------------')\n",
    "\n",
    "\n",
    "    \n"
   ]
  },
  {
   "cell_type": "code",
   "execution_count": 60,
   "metadata": {},
   "outputs": [
    {
     "name": "stdout",
     "output_type": "stream",
     "text": [
      "['Date', 'Open', 'High', 'Low', 'Close', 'Change', 'Traded Volume', 'Turnover', 'Last Price of the Day', 'Daily Traded Units', 'Daily Turnover']\n"
     ]
    }
   ],
   "source": [
    "print(task_json['dataset_data']['column_names'])"
   ]
  },
  {
   "cell_type": "code",
   "execution_count": null,
   "metadata": {},
   "outputs": [],
   "source": []
  }
 ],
 "metadata": {
  "kernelspec": {
   "display_name": "Python 3",
   "language": "python",
   "name": "python3"
  },
  "language_info": {
   "codemirror_mode": {
    "name": "ipython",
    "version": 3
   },
   "file_extension": ".py",
   "mimetype": "text/x-python",
   "name": "python",
   "nbconvert_exporter": "python",
   "pygments_lexer": "ipython3",
   "version": "3.7.3"
  }
 },
 "nbformat": 4,
 "nbformat_minor": 2
}
